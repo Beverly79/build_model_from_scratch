{
 "cells": [
  {
   "cell_type": "markdown",
   "id": "e5617934",
   "metadata": {},
   "source": [
    "## Batch Gradient Descent\n",
    "\n",
    "Soft-margin Loss function:\n",
    "$$L = \\lambda \\left\\|w \\right\\|^{2} + \\frac{1}{n} \\sum_{i=1}^{n} max\\left\\{0, 1- y_{i}\\left ( w^{T}x_{i} - b \\right ) \\right\\}$$\n",
    "\n",
    "when $1- y_{i}\\left ( w^{T}x_{i} + b \\right ) >= 0$ :\n",
    "$$ \\frac{\\partial L}{\\partial w}  = \\lambda  w - \\frac{1}{n} \\sum_{i=1}^{n} y_{i} x_{i}$$\n",
    "$$ \\frac{\\partial L}{\\partial b} = \\frac{1}{n} \\sum_{i=1}^{n} y_{i}$$\n",
    "\n",
    "when $1- y_{i}\\left ( w^{T}x_{i} + b \\right ) < 0$ :\n",
    "$$\\frac{\\partial L}{\\partial w}  = \\lambda w $$\n",
    "$$\\frac{\\partial L}{\\partial b} = 0 $$\n",
    "\n",
    "\n",
    "**Advantages**:\n",
    "* stable convergence;\n",
    "* accurate gradient estimates;\n",
    "\n",
    "**Disadvantages**:\n",
    "* slower updates;\n",
    "* memory intensive;\n",
    "* difficulty escaping local minima."
   ]
  },
  {
   "cell_type": "markdown",
   "id": "d4ce97d0",
   "metadata": {},
   "source": [
    "## Stochastic Gradient Descent (SGD)\n",
    "\n",
    "Parameters are updated after computing the gradient of the loss function with respect to a single training sample at a time.\n",
    "\n",
    "Update Rule:\n",
    "\n",
    "For each training sample  $(x_{i}, y_{i})$ , the parameters $\\theta$ are updated using the gradient of the loss function $ L(\\theta, x_{i}, y_{i})$:\n",
    "$$ \\theta = \\theta - \\eta \\triangledown L(\\theta, x_{i}, y_{i}) $$\n",
    "\n",
    "\n",
    "**Advantages**:\n",
    "\n",
    "* faster updates;\n",
    "* potential to escape local minima;\n",
    "* memory efficiency;\n",
    "\n",
    "**Disadvantages**:\n",
    "* high variance in updates;\n",
    "* less accurate gradient estimate."
   ]
  },
  {
   "cell_type": "code",
   "execution_count": 4,
   "id": "55c91301",
   "metadata": {},
   "outputs": [],
   "source": [
    "import numpy as np\n",
    "import matplotlib.pyplot as plt\n",
    "from sklearn import datasets\n",
    "from sklearn.model_selection import train_test_split\n",
    "from sklearn.preprocessing import StandardScaler"
   ]
  },
  {
   "cell_type": "code",
   "execution_count": 120,
   "id": "e41ed2ee",
   "metadata": {},
   "outputs": [],
   "source": [
    "class SVM:\n",
    "    \n",
    "    '''\n",
    "    for binary classification\n",
    "    with stochastic gradient descent\n",
    "    '''\n",
    "    \n",
    "    def __init__(self, learning_rate=0.001, lambda_param=0.01, n_iters=1000):\n",
    "        self.lr = learning_rate\n",
    "        self.lambda_param = lambda_param\n",
    "        self.n_iters = n_iters\n",
    "        self.w = None\n",
    "        self.b = None\n",
    "        self.loss = None\n",
    "\n",
    "\n",
    "    def fit(self, X, y):\n",
    "        n_samples, n_features = X.shape\n",
    "        \n",
    "        y_ = np.where(y <= 0, -1, 1)\n",
    "\n",
    "        self.w = np.zeros(n_features)\n",
    "        self.b = 0\n",
    "        self.loss = []\n",
    "        \n",
    "        \n",
    "        # gradient descent\n",
    "        for _ in range(self.n_iters):\n",
    "            \n",
    "            batch_loss = 0\n",
    "            for idx, x_i in enumerate(X):\n",
    "                condition = y_[idx] * (np.dot(x_i, self.w) - self.b) >= 1\n",
    "                if condition:\n",
    "                    self.w -= self.lr * (2 * self.lambda_param * self.w)\n",
    "                else:\n",
    "                    self.w -= self.lr * (2 * self.lambda_param * self.w - np.dot(x_i, y_[idx]))\n",
    "                    self.b -= self.lr * y_[idx]\n",
    "                    hinge_loss = 1 - y_[idx] * (np.dot(self.w, np.transpose(x_i)) - self.b)\n",
    "                    batch_loss += hinge_loss\n",
    "                    \n",
    "            batch_loss = batch_loss / n_samples + self.lambda_param * np.linalg.norm(self.w, ord=2)\n",
    "            self.loss.append(batch_loss)\n",
    "            \n",
    "\n",
    "    def predict(self, X):\n",
    "        approx = np.dot(X, self.w) - self.b\n",
    "        return np.sign(approx)"
   ]
  },
  {
   "cell_type": "code",
   "execution_count": 121,
   "id": "c344171b",
   "metadata": {},
   "outputs": [
    {
     "name": "stdout",
     "output_type": "stream",
     "text": [
      "(120, 4) [0 1 2]\n"
     ]
    }
   ],
   "source": [
    "# Unpack the iris dataset, from UCI Machine Learning Repository\n",
    "iris = datasets.load_iris()\n",
    "X = iris['data']\n",
    "y = iris['target']\n",
    "# Preprocess data\n",
    "X = StandardScaler().fit_transform(X)\n",
    "# Split data into train & test sets\n",
    "X_train, X_test, y_train, y_test = train_test_split(X, y, test_size=0.2)\n",
    "print(X_train.shape, np.unique(y_train))\n",
    "\n",
    "\n",
    "# Since iris data has three categories, \n",
    "# the SVM can only perform binary classification.\n",
    "# In this case, we treat class 0 as -1, class 1/2 as 1"
   ]
  },
  {
   "cell_type": "code",
   "execution_count": 122,
   "id": "03560af9",
   "metadata": {},
   "outputs": [
    {
     "data": {
      "text/plain": [
       "(120,)"
      ]
     },
     "execution_count": 122,
     "metadata": {},
     "output_type": "execute_result"
    }
   ],
   "source": [
    "y_train.shape"
   ]
  },
  {
   "cell_type": "code",
   "execution_count": 123,
   "id": "6aa26926",
   "metadata": {},
   "outputs": [],
   "source": [
    "model = SVM(learning_rate = 0.001, lambda_param = 0.01, n_iters = 50)\n",
    "model.fit(X_train, y_train)\n",
    "y_predict = model.predict(X_test) "
   ]
  },
  {
   "cell_type": "code",
   "execution_count": 124,
   "id": "fd4eff33",
   "metadata": {},
   "outputs": [
    {
     "data": {
      "text/plain": [
       "array([ True,  True,  True,  True,  True,  True,  True,  True,  True,\n",
       "        True,  True,  True,  True,  True,  True,  True,  True,  True,\n",
       "        True,  True,  True,  True,  True,  True,  True,  True,  True,\n",
       "        True,  True,  True])"
      ]
     },
     "execution_count": 124,
     "metadata": {},
     "output_type": "execute_result"
    }
   ],
   "source": [
    "y_predict == np.where(y_test <= 0, -1, 1)"
   ]
  },
  {
   "cell_type": "code",
   "execution_count": 126,
   "id": "382233c5",
   "metadata": {},
   "outputs": [
    {
     "data": {
      "image/png": "[encoded data removed]",
      "text/plain": [
       "<Figure size 640x480 with 1 Axes>"
      ]
     },
     "metadata": {},
     "output_type": "display_data"
    }
   ],
   "source": [
    "idx = range(0, len(model.loss))\n",
    "\n",
    "fig, ax = plt.subplots()\n",
    "ax.plot(idx, model.loss)\n",
    "ax.set(xlabel=\"iteration\",\n",
    "       ylabel=\"loss\",\n",
    "       title=\"Performance of SVM\")\n",
    "plt.show()"
   ]
  }
 ],
 "metadata": {
  "kernelspec": {
   "display_name": "nlp",
   "language": "python",
   "name": "nlp"
  },
  "language_info": {
   "codemirror_mode": {
    "name": "ipython",
    "version": 3
   },
   "file_extension": ".py",
   "mimetype": "text/x-python",
   "name": "python",
   "nbconvert_exporter": "python",
   "pygments_lexer": "ipython3",
   "version": "3.8.16"
  }
 },
 "nbformat": 4,
 "nbformat_minor": 5
}
