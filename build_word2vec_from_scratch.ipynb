{
 "cells": [
  {
   "cell_type": "markdown",
   "id": "079e4f70",
   "metadata": {},
   "source": [
    "https://jaketae.github.io/study/word2vec/"
   ]
  },
  {
   "cell_type": "markdown",
   "id": "2f0d8e9b",
   "metadata": {},
   "source": [
    "### Objective/loss/cost function\n",
    "\n",
    "For each position $t = 1, ... , 𝑇$, predict context words within a window of fixed size $m$, given center word $w_j$. Data likelihood:\n",
    "\n",
    "$$Likelihood = L(\\theta) = \\prod_{t}^{T} \\prod_{\\substack{-m \\leq j \\leq m \\\\ j \\neq m}} P(w_{t+j}|{w_{t}; \\theta}) \\tag{1}$$\n",
    "\n",
    "The objective/loss/cost function for $(1)$ is the average negative log likelihood: \n",
    "\n",
    "$$ L = - \\frac{1}{T} logL(\\theta) = - \\frac{1}{T} \\sum_{t=1}^{T} \\sum_{\\substack{-m \\leq j \\leq m \\\\ j \\neq m}} log P(w_{t+j}|{w_{t}; \\theta}) \\tag{2}$$\n",
    "\n",
    "\n",
    "### Prediction function\n",
    "\n",
    "Denote by $v_{c}$ and $v_{o}$ respectively the center word and the context word, using **softmax**, we get the following prediction function of predicting $v_{c}$ given $v_{o}$ and the vocubulary $V$:\n",
    "\n",
    "$$P(o|c) = \\frac{exp(\\mathbf{u_{o}^{T} v_{c}})}{\\sum_{w \\in V} exp(\\mathbf{u_{w}^{T} v_{c}})} \\tag{3}$$\n",
    "\n",
    "\n",
    "### Forward Propagation \n",
    "\n",
    "$$ A_{1} = XW_{1}$$\n",
    "$$ A_{2} = A_{1} W_{2} $$\n",
    "$$Z = softmax(A_{2})$$\n",
    "\n",
    "### Back Propagation\n",
    "\n",
    "$$ \\frac{\\partial L}{\\partial A_{2}} = Z - y$$\n",
    "$$ \\frac{\\partial L}{\\partial W_{2}} = A_{1}^T \\left(Z - y\\right)$$\n",
    "$$ \\frac{\\partial L}{\\partial A_{1}} = \\left(Z - y\\right) W_{2}^T$$\n",
    "$$ \\frac{\\partial L}{\\partial W_{1}} = X^T \\left[ \\left(Z - y\\right) W_{2}^T \\right]$$"
   ]
  },
  {
   "cell_type": "code",
   "execution_count": 1,
   "id": "2a19dbd0",
   "metadata": {},
   "outputs": [],
   "source": [
    "import re\n",
    "import numpy as np\n",
    "import pandas as pd\n",
    "import matplotlib.pyplot as plt"
   ]
  },
  {
   "cell_type": "markdown",
   "id": "ba4f3c75",
   "metadata": {},
   "source": [
    "## prepare the data"
   ]
  },
  {
   "cell_type": "code",
   "execution_count": 2,
   "id": "c9600c37",
   "metadata": {},
   "outputs": [],
   "source": [
    "text = '''Machine learning is the study of computer algorithms that \\\n",
    "improve automatically through experience. It is seen as a \\\n",
    "subset of artificial intelligence. Machine learning algorithms \\\n",
    "build a mathematical model based on sample data, known as \\\n",
    "training data, in order to make predictions or decisions without \\\n",
    "being explicitly programmed to do so. Machine learning algorithms \\\n",
    "are used in a wide variety of applications, such as email filtering \\\n",
    "and computer vision, where it is difficult or infeasible to develop \\\n",
    "conventional algorithms to perform the needed tasks.'''"
   ]
  },
  {
   "cell_type": "code",
   "execution_count": 3,
   "id": "fc936ea9",
   "metadata": {},
   "outputs": [],
   "source": [
    "def tokenize(text):\n",
    "    pattern = re.compile(r'[A-Za-z]+[\\w^\\']*|[\\w^\\']*[A-Za-z]+[\\w^\\']*')\n",
    "    return pattern.findall(text.lower())"
   ]
  },
  {
   "cell_type": "code",
   "execution_count": 4,
   "id": "ade6a02d",
   "metadata": {},
   "outputs": [],
   "source": [
    "tokens = tokenize(text)"
   ]
  },
  {
   "cell_type": "code",
   "execution_count": 5,
   "id": "2a47474b",
   "metadata": {},
   "outputs": [],
   "source": [
    "def mapping(tokens):\n",
    "    word_to_id = {}\n",
    "    id_to_word = {}\n",
    "    \n",
    "    for i, token in enumerate(set(tokens)): \n",
    "        # only count the same word once, id is the first time it showed up so we can save it to a dictonary\n",
    "        word_to_id[token] = i\n",
    "        id_to_word[i] = token\n",
    "    \n",
    "    return word_to_id, id_to_word # return two dictionaries\n",
    "\n",
    "\n",
    "# example:  \n",
    "# text = \"repeat repeat repeat three times\"\n",
    "# tokens = ['repeat', 'repeat', 'repeat', 'three', 'times']\n",
    "# word_to_id = {'repeat': 0, 'three': 1, 'times': 2}"
   ]
  },
  {
   "cell_type": "code",
   "execution_count": 6,
   "id": "7e5ddca1",
   "metadata": {},
   "outputs": [],
   "source": [
    "word_to_id, id_to_word = mapping(tokens)"
   ]
  },
  {
   "cell_type": "markdown",
   "id": "41f9a0dc",
   "metadata": {},
   "source": [
    "### Skip-gram\n",
    "predicting the context words"
   ]
  },
  {
   "cell_type": "code",
   "execution_count": 7,
   "id": "4e132df1",
   "metadata": {},
   "outputs": [],
   "source": [
    "def concat(*iterables):\n",
    "    for iterable in iterables:\n",
    "        yield from iterable"
   ]
  },
  {
   "cell_type": "code",
   "execution_count": 8,
   "id": "9692f2df",
   "metadata": {},
   "outputs": [],
   "source": [
    "def one_hot_encode(id, vocab_size):\n",
    "    vector = [0] * vocab_size\n",
    "    vector[id] = 1\n",
    "    return vector"
   ]
  },
  {
   "cell_type": "code",
   "execution_count": 9,
   "id": "be0ca1a0",
   "metadata": {},
   "outputs": [],
   "source": [
    "np.random.seed(42)\n",
    "\n",
    "def generate_training_data(tokens, word_to_id, window_size):\n",
    "    X = [] # gonna be a list of lists (each list is a one hot encoding vector of some word)\n",
    "    y = []\n",
    "    n_tokens = len(tokens)\n",
    "    \n",
    "    for i in range(n_tokens):\n",
    "        # i is the index of tokens\n",
    "        # idx gets the index from center word -m to +m position words\n",
    "        # for example: i = 2, m = 4, idx should be range(0,7), which is 0, 1, 2, 3, 4, 5, 6\n",
    "        idx = concat(\n",
    "            range(max(0, i - window_size), i), \n",
    "            range(i, min(n_tokens, i + window_size + 1))\n",
    "        )\n",
    "        for j in idx:\n",
    "            if i == j: # skip the center word itself\n",
    "                continue\n",
    "            # for example: i = 2, m = 4, X would append the word one hot encoding, and y would append one of the surrounding words one hot encoding\n",
    "            X.append(one_hot_encode(word_to_id[tokens[i]], len(word_to_id)))\n",
    "            y.append(one_hot_encode(word_to_id[tokens[j]], len(word_to_id)))\n",
    "\n",
    "    return np.asarray(X), np.asarray(y)"
   ]
  },
  {
   "cell_type": "code",
   "execution_count": 10,
   "id": "670a0e47",
   "metadata": {},
   "outputs": [
    {
     "name": "stdout",
     "output_type": "stream",
     "text": [
      "(330, 60) (330, 60) True\n"
     ]
    }
   ],
   "source": [
    "X, y = generate_training_data(tokens, word_to_id, 2)\n",
    "print(X.shape, y.shape, X.shape==y.shape)"
   ]
  },
  {
   "cell_type": "markdown",
   "id": "dd7a4bf8",
   "metadata": {},
   "source": [
    "## build the model"
   ]
  },
  {
   "cell_type": "code",
   "execution_count": 11,
   "id": "446b1cbb",
   "metadata": {},
   "outputs": [],
   "source": [
    "def init_network(vocab_size, n_embedding):\n",
    "    # generate initial random weight\n",
    "    model = {\n",
    "        \"w1\": np.random.randn(vocab_size, n_embedding), # input*w1 is the matrix of all the embedding vectors\n",
    "        \"w2\": np.random.randn(n_embedding, vocab_size)\n",
    "    }\n",
    "    return model"
   ]
  },
  {
   "cell_type": "code",
   "execution_count": 12,
   "id": "648bcc5f",
   "metadata": {},
   "outputs": [],
   "source": [
    "model = init_network(len(word_to_id), 10)"
   ]
  },
  {
   "cell_type": "markdown",
   "id": "fc85b697",
   "metadata": {},
   "source": [
    "### Forward Propagation"
   ]
  },
  {
   "cell_type": "code",
   "execution_count": 13,
   "id": "cd6a383b",
   "metadata": {},
   "outputs": [],
   "source": [
    "def softmax(X):\n",
    "    prob_vector = []\n",
    "    for x in X:\n",
    "        exp = np.exp(x) # for each scalar in this vector, calculate the weight of it's exp()\n",
    "        prob_vector.append(exp / exp.sum())\n",
    "    return prob_vector"
   ]
  },
  {
   "cell_type": "code",
   "execution_count": 14,
   "id": "44773dfb",
   "metadata": {},
   "outputs": [],
   "source": [
    "def forward(model, X, return_all_layer=True):\n",
    "    layer = {}\n",
    "    \n",
    "    layer[\"a1\"] = np.dot(X, model[\"w1\"]) # first layer is to convert input one hot encoding to embedding space through W1\n",
    "    layer[\"a2\"] = np.dot(layer[\"a1\"], model[\"w2\"]) \n",
    "    layer[\"z\"] = softmax(layer[\"a2\"]) # last layer is softmax to convert layer 2 to predict probability of vocalubary\n",
    "    \n",
    "    if not return_all_layer:\n",
    "        return layer[\"z\"] # just return the softmax layer\n",
    "    return layer"
   ]
  },
  {
   "cell_type": "code",
   "execution_count": 15,
   "id": "790f7dab",
   "metadata": {},
   "outputs": [
    {
     "data": {
      "text/plain": [
       "(330, 10)"
      ]
     },
     "execution_count": 15,
     "metadata": {},
     "output_type": "execute_result"
    }
   ],
   "source": [
    "# check dimension of layer 1 output, should be n-input * n-embedding-space\n",
    "np.dot(X, model[\"w1\"]).shape"
   ]
  },
  {
   "cell_type": "code",
   "execution_count": 16,
   "id": "2fcfca42",
   "metadata": {},
   "outputs": [
    {
     "data": {
      "text/plain": [
       "(330, 60)"
      ]
     },
     "execution_count": 16,
     "metadata": {},
     "output_type": "execute_result"
    }
   ],
   "source": [
    "# check dimension of layer 2 output, should be n-input * n-vocabulary\n",
    "np.dot(np.dot(X, model[\"w1\"]), model[\"w2\"]).shape"
   ]
  },
  {
   "cell_type": "code",
   "execution_count": 17,
   "id": "0296fc34",
   "metadata": {},
   "outputs": [],
   "source": [
    "def cross_entropy(z, y):\n",
    "    return - np.sum(np.log(z) * y)"
   ]
  },
  {
   "cell_type": "code",
   "execution_count": 18,
   "id": "d78b7746",
   "metadata": {},
   "outputs": [],
   "source": [
    "def backward(model, X, y, lr):\n",
    "    cache  = forward(model, X) # the temporary value of the prediction y\n",
    "    da2 = cache[\"z\"] - y # derivative of A2\n",
    "    dw2 = np.dot(cache[\"a1\"].T, da2)\n",
    "    da1 = np.dot(da2, model[\"w2\"].T)\n",
    "    dw1 = np.dot(X.T, da1)\n",
    "    assert(dw2.shape == model[\"w2\"].shape) # test shape\n",
    "    assert(dw1.shape == model[\"w1\"].shape)\n",
    "    model[\"w1\"] -= lr * dw1 # update W1 and W2\n",
    "    model[\"w2\"] -= lr * dw2\n",
    "    return cross_entropy(cache[\"z\"], y) # current prediction's loss"
   ]
  },
  {
   "cell_type": "markdown",
   "id": "e03bf05f",
   "metadata": {},
   "source": [
    "## Test the Model"
   ]
  },
  {
   "cell_type": "code",
   "execution_count": 19,
   "id": "131a5c69",
   "metadata": {},
   "outputs": [
    {
     "data": {
      "image/png": "[encoded data removed]",
      "text/plain": [
       "<Figure size 432x288 with 1 Axes>"
      ]
     },
     "metadata": {
      "needs_background": "light"
     },
     "output_type": "display_data"
    }
   ],
   "source": [
    "n_iter = 50\n",
    "learning_rate = 0.05\n",
    "\n",
    "history = [backward(model, X, y, learning_rate) for _ in range(n_iter)]\n",
    "\n",
    "plt.plot(range(len(history)), history, color=\"skyblue\")\n",
    "plt.show()"
   ]
  },
  {
   "cell_type": "code",
   "execution_count": 20,
   "id": "0f9c0fe9",
   "metadata": {},
   "outputs": [
    {
     "name": "stdout",
     "output_type": "stream",
     "text": [
      "machine\n",
      "so\n",
      "are\n",
      "intelligence\n",
      "build\n",
      "algorithms\n",
      "the\n",
      "learning\n",
      "a\n",
      "do\n",
      "automatically\n",
      "of\n",
      "is\n",
      "subset\n",
      "through\n",
      "seen\n",
      "to\n",
      "as\n",
      "in\n",
      "that\n",
      "variety\n",
      "training\n",
      "used\n",
      "perform\n",
      "experience\n",
      "order\n",
      "improve\n",
      "study\n",
      "it\n",
      "artificial\n",
      "tasks\n",
      "such\n",
      "data\n",
      "needed\n",
      "wide\n",
      "model\n",
      "conventional\n",
      "being\n",
      "filtering\n",
      "based\n",
      "mathematical\n",
      "programmed\n",
      "known\n",
      "where\n",
      "applications\n",
      "difficult\n",
      "explicitly\n",
      "develop\n",
      "sample\n",
      "predictions\n",
      "vision\n",
      "on\n",
      "make\n",
      "or\n",
      "and\n",
      "decisions\n",
      "infeasible\n",
      "email\n",
      "without\n",
      "computer\n"
     ]
    }
   ],
   "source": [
    "learning = one_hot_encode(word_to_id[\"learning\"], len(word_to_id))\n",
    "result = forward(model, [learning], return_all_layer=False)[0]\n",
    "\n",
    "for word in (id_to_word[id] for id in np.argsort(result)[::-1]):\n",
    "    print(word) # print the probability of words desc with the word \"learning\" as input"
   ]
  },
  {
   "cell_type": "code",
   "execution_count": 21,
   "id": "792a9701",
   "metadata": {},
   "outputs": [
    {
     "name": "stdout",
     "output_type": "stream",
     "text": [
      "[[ 1.2628424  -0.23199393  0.73341386  0.97447621 -0.41641794 -0.68095658\n",
      "   2.61265629  0.74214787 -0.05703892 -1.04526872]\n",
      " [ 0.28876479  0.72380286  0.41703572 -1.93696817 -0.82172046  0.41757945\n",
      "  -0.72200732  0.97196456 -1.68163859 -1.42754947]\n",
      " [ 0.74553496 -0.69552587 -0.36087355 -1.44234776 -1.25861167  1.99996755\n",
      "  -1.41716946  0.85665773 -0.21359055 -0.21230389]]\n"
     ]
    }
   ],
   "source": [
    "print(model[\"w1\"][:3]) # the embedding of the first three words"
   ]
  },
  {
   "cell_type": "code",
   "execution_count": 22,
   "id": "b346f0a3",
   "metadata": {},
   "outputs": [],
   "source": [
    "def get_embedding(model, word):\n",
    "    try:\n",
    "        idx = word_to_id[word]\n",
    "    except KeyError:\n",
    "        print(\"`word` not in corpus\")\n",
    "    one_hot = one_hot_encode(idx, len(word_to_id))\n",
    "    return forward(model, one_hot)[\"a1\"]"
   ]
  },
  {
   "cell_type": "code",
   "execution_count": 23,
   "id": "8043bb3c",
   "metadata": {},
   "outputs": [
    {
     "data": {
      "text/plain": [
       "array([ 0.00491847, -1.84355269,  0.27607591, -0.93631093, -0.59224958,\n",
       "        0.19767631, -0.78768098, -1.25834848,  0.70914154, -0.08872889])"
      ]
     },
     "execution_count": 23,
     "metadata": {},
     "output_type": "execute_result"
    }
   ],
   "source": [
    "get_embedding(model, \"machine\")"
   ]
  }
 ],
 "metadata": {
  "kernelspec": {
   "display_name": "nlp",
   "language": "python",
   "name": "nlp"
  },
  "language_info": {
   "codemirror_mode": {
    "name": "ipython",
    "version": 3
   },
   "file_extension": ".py",
   "mimetype": "text/x-python",
   "name": "python",
   "nbconvert_exporter": "python",
   "pygments_lexer": "ipython3",
   "version": "3.8.16"
  }
 },
 "nbformat": 4,
 "nbformat_minor": 5
}
