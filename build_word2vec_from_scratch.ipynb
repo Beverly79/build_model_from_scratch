{
 "cells": [
  {
   "cell_type": "markdown",
   "id": "079e4f70",
   "metadata": {},
   "source": [
    "https://jaketae.github.io/study/word2vec/"
   ]
  },
  {
   "cell_type": "code",
   "execution_count": 1,
   "id": "2a19dbd0",
   "metadata": {},
   "outputs": [],
   "source": [
    "import re\n",
    "import numpy as np\n",
    "import pandas as pd\n",
    "import matplotlib.pyplot as plt"
   ]
  },
  {
   "cell_type": "markdown",
   "id": "ba4f3c75",
   "metadata": {},
   "source": [
    "## prepare the data"
   ]
  },
  {
   "cell_type": "code",
   "execution_count": 2,
   "id": "cdf57714",
   "metadata": {},
   "outputs": [],
   "source": [
    "text = \"OpenAI is an American artificial intelligence (AI) research organization founded in December 2015 and headquartered in San Francisco, California. Its mission is to develop 'safe and beneficial' artificial general intelligence, which it defines as 'highly autonomous systems that outperform humans at most economically valuable work'.[4] As a leading organization in the ongoing AI boom,[5] OpenAI is known for the GPT family of large language models, the DALL-E series of text-to-image models, and a text-to-video model named Sora.[6][7] Its release of ChatGPT in November 2022 has been credited with catalyzing widespread interest in generative AI.The organization consists of the non-profit OpenAI, Inc.,[8] registered in Delaware, and its for-profit subsidiary introduced in 2019, OpenAI Global, LLC.[9] Microsoft owns roughly 49% of OpenAI's equity, having invested US$13 billion.[10] It also provides computing resources to OpenAI through its Microsoft Azure cloud platform.[11]In 2023 and 2024, OpenAI faced multiple lawsuits for alleged copyright infringement against authors and media companies whose work was used to train some of OpenAI's products. In November 2023, OpenAI's board removed Sam Altman as CEO, citing a lack of confidence in him, and then reinstated him five days later after negotiations resulting in a reconstructed board. OpenAI's board has since added former US Treasury Secretary Lawrence Summers and former National Security Agency head Paul Nakasone.\""
   ]
  },
  {
   "cell_type": "code",
   "execution_count": 3,
   "id": "c9600c37",
   "metadata": {},
   "outputs": [],
   "source": [
    "text = '''Machine learning is the study of computer algorithms that \\\n",
    "improve automatically through experience. It is seen as a \\\n",
    "subset of artificial intelligence. Machine learning algorithms \\\n",
    "build a mathematical model based on sample data, known as \\\n",
    "training data, in order to make predictions or decisions without \\\n",
    "being explicitly programmed to do so. Machine learning algorithms \\\n",
    "are used in a wide variety of applications, such as email filtering \\\n",
    "and computer vision, where it is difficult or infeasible to develop \\\n",
    "conventional algorithms to perform the needed tasks.'''"
   ]
  },
  {
   "cell_type": "code",
   "execution_count": 4,
   "id": "fc936ea9",
   "metadata": {},
   "outputs": [],
   "source": [
    "def tokenize(text):\n",
    "    pattern = re.compile(r'[A-Za-z]+[\\w^\\']*|[\\w^\\']*[A-Za-z]+[\\w^\\']*')\n",
    "    return pattern.findall(text.lower())"
   ]
  },
  {
   "cell_type": "code",
   "execution_count": 5,
   "id": "ade6a02d",
   "metadata": {},
   "outputs": [],
   "source": [
    "tokens = tokenize(text)"
   ]
  },
  {
   "cell_type": "code",
   "execution_count": 6,
   "id": "2a47474b",
   "metadata": {},
   "outputs": [],
   "source": [
    "def mapping(tokens):\n",
    "    word_to_id = {}\n",
    "    id_to_word = {}\n",
    "    \n",
    "    for i, token in enumerate(set(tokens)): \n",
    "        # only count the same word once, id is the first time it showed up so we can save it to a dictonary\n",
    "        word_to_id[token] = i\n",
    "        id_to_word[i] = token\n",
    "    \n",
    "    return word_to_id, id_to_word # return two dictionaries\n",
    "\n",
    "\n",
    "# example:  \n",
    "# text = \"repeat repeat repeat three times\"\n",
    "# tokens = ['repeat', 'repeat', 'repeat', 'three', 'times']\n",
    "# word_to_id = {'repeat': 0, 'three': 1, 'times': 2}"
   ]
  },
  {
   "cell_type": "code",
   "execution_count": 7,
   "id": "7e5ddca1",
   "metadata": {},
   "outputs": [],
   "source": [
    "word_to_id, id_to_word = mapping(tokens)"
   ]
  },
  {
   "cell_type": "markdown",
   "id": "41f9a0dc",
   "metadata": {},
   "source": [
    "### Skip-gram\n",
    "predicting the context words"
   ]
  },
  {
   "cell_type": "code",
   "execution_count": 8,
   "id": "4e132df1",
   "metadata": {},
   "outputs": [],
   "source": [
    "def concat(*iterables):\n",
    "    for iterable in iterables:\n",
    "        yield from iterable"
   ]
  },
  {
   "cell_type": "code",
   "execution_count": 9,
   "id": "9692f2df",
   "metadata": {},
   "outputs": [],
   "source": [
    "def one_hot_encode(id, vocab_size):\n",
    "    vector = [0] * vocab_size\n",
    "    vector[id] = 1\n",
    "    return vector"
   ]
  },
  {
   "cell_type": "code",
   "execution_count": 10,
   "id": "be0ca1a0",
   "metadata": {},
   "outputs": [],
   "source": [
    "np.random.seed(42)\n",
    "\n",
    "def generate_training_data(tokens, word_to_id, window_size):\n",
    "    X = [] # gonna be a list of lists (each list is a one hot encoding vector of some word)\n",
    "    y = []\n",
    "    n_tokens = len(tokens)\n",
    "    \n",
    "    for i in range(n_tokens):\n",
    "        # i is the index of tokens\n",
    "        # idx gets the index from center word -m to +m position words\n",
    "        # for example: i = 2, m = 4, idx should be range(0,7), which is 0, 1, 2, 3, 4, 5, 6\n",
    "        idx = concat(\n",
    "            range(max(0, i - window_size), i), \n",
    "            range(i, min(n_tokens, i + window_size + 1))\n",
    "        )\n",
    "        for j in idx:\n",
    "            if i == j: # skip the center word itself\n",
    "                continue\n",
    "            # for example: i = 2, m = 4, X would append the word one hot encoding, and y would append one of the surrounding words one hot encoding\n",
    "            X.append(one_hot_encode(word_to_id[tokens[i]], len(word_to_id)))\n",
    "            y.append(one_hot_encode(word_to_id[tokens[j]], len(word_to_id)))\n",
    "\n",
    "    return np.asarray(X), np.asarray(y)"
   ]
  },
  {
   "cell_type": "code",
   "execution_count": 11,
   "id": "670a0e47",
   "metadata": {},
   "outputs": [
    {
     "name": "stdout",
     "output_type": "stream",
     "text": [
      "(330, 60) (330, 60) True\n"
     ]
    }
   ],
   "source": [
    "X, y = generate_training_data(tokens, word_to_id, 2)\n",
    "print(X.shape, y.shape, X.shape==y.shape)"
   ]
  },
  {
   "cell_type": "markdown",
   "id": "dd7a4bf8",
   "metadata": {},
   "source": [
    "## build the model"
   ]
  },
  {
   "cell_type": "code",
   "execution_count": 12,
   "id": "446b1cbb",
   "metadata": {},
   "outputs": [],
   "source": [
    "def init_network(vocab_size, n_embedding):\n",
    "    # generate initial random weight\n",
    "    model = {\n",
    "        \"w1\": np.random.randn(vocab_size, n_embedding), # input*w1 is the matrix of all the embedding vectors\n",
    "        \"w2\": np.random.randn(n_embedding, vocab_size)\n",
    "    }\n",
    "    return model"
   ]
  },
  {
   "cell_type": "code",
   "execution_count": 13,
   "id": "648bcc5f",
   "metadata": {},
   "outputs": [],
   "source": [
    "model = init_network(len(word_to_id), 10)"
   ]
  },
  {
   "cell_type": "markdown",
   "id": "fc85b697",
   "metadata": {},
   "source": [
    "### Forward Propagation"
   ]
  },
  {
   "cell_type": "code",
   "execution_count": 14,
   "id": "cd6a383b",
   "metadata": {},
   "outputs": [],
   "source": [
    "def softmax(X):\n",
    "    prob_vector = []\n",
    "    for x in X:\n",
    "        exp = np.exp(x) # for each scalar in this vector, calculate the weight of it's exp()\n",
    "        prob_vector.append(exp / exp.sum())\n",
    "    return prob_vector"
   ]
  },
  {
   "cell_type": "code",
   "execution_count": 15,
   "id": "44773dfb",
   "metadata": {},
   "outputs": [],
   "source": [
    "def forward(model, X, return_all_layer=True):\n",
    "    layer = {}\n",
    "    \n",
    "    layer[\"a1\"] = np.dot(X, model[\"w1\"]) # first layer is to convert input one hot encoding to embedding space through W1\n",
    "    layer[\"a2\"] = np.dot(layer[\"a1\"], model[\"w2\"]) \n",
    "    layer[\"z\"] = softmax(layer[\"a2\"]) # last layer is softmax to convert layer 2 to predict probability of vocalubary\n",
    "    \n",
    "    if not return_all_layer:\n",
    "        return layer[\"z\"] # just return the softmax layer\n",
    "    return layer"
   ]
  },
  {
   "cell_type": "code",
   "execution_count": 16,
   "id": "790f7dab",
   "metadata": {},
   "outputs": [
    {
     "data": {
      "text/plain": [
       "(330, 10)"
      ]
     },
     "execution_count": 16,
     "metadata": {},
     "output_type": "execute_result"
    }
   ],
   "source": [
    "# check dimension of layer 1 output, should be n-input * n-embedding-space\n",
    "np.dot(X, model[\"w1\"]).shape"
   ]
  },
  {
   "cell_type": "code",
   "execution_count": 17,
   "id": "2fcfca42",
   "metadata": {},
   "outputs": [
    {
     "data": {
      "text/plain": [
       "(330, 60)"
      ]
     },
     "execution_count": 17,
     "metadata": {},
     "output_type": "execute_result"
    }
   ],
   "source": [
    "# check dimension of layer 2 output, should be n-input * n-vocabulary\n",
    "np.dot(np.dot(X, model[\"w1\"]), model[\"w2\"]).shape"
   ]
  },
  {
   "cell_type": "markdown",
   "id": "2f0d8e9b",
   "metadata": {},
   "source": [
    "### Back Propagation\n",
    "\n",
    "$$ \\frac{\\partial L}{\\partial A_{2}} = Z - y$$\n",
    "$$A_{1}  = XW_{1}$$\n",
    "$$A_{2}  = A_{1}W_{2}$$\n",
    "$$Z = softmax(A_{2})$$"
   ]
  },
  {
   "cell_type": "code",
   "execution_count": 18,
   "id": "0296fc34",
   "metadata": {},
   "outputs": [],
   "source": [
    "def cross_entropy(z, y):\n",
    "    return - np.sum(np.log(z) * y)"
   ]
  },
  {
   "cell_type": "code",
   "execution_count": 19,
   "id": "d78b7746",
   "metadata": {},
   "outputs": [],
   "source": [
    "def backward(model, X, y, lr):\n",
    "    cache  = forward(model, X) # the temporary value of the prediction y\n",
    "    da2 = cache[\"z\"] - y # derivative of A2\n",
    "    dw2 = np.dot(cache[\"a1\"].T, da2)\n",
    "    da1 = np.dot(da2, model[\"w2\"].T)\n",
    "    dw1 = np.dot(X.T, da1)\n",
    "    assert(dw2.shape == model[\"w2\"].shape) # test shape\n",
    "    assert(dw1.shape == model[\"w1\"].shape)\n",
    "    model[\"w1\"] -= lr * dw1 # update W1 and W2\n",
    "    model[\"w2\"] -= lr * dw2\n",
    "    return cross_entropy(cache[\"z\"], y) # current prediction's loss"
   ]
  },
  {
   "cell_type": "markdown",
   "id": "e03bf05f",
   "metadata": {},
   "source": [
    "## Test the Model"
   ]
  },
  {
   "cell_type": "code",
   "execution_count": 20,
   "id": "131a5c69",
   "metadata": {},
   "outputs": [
    {
     "data": {
      "image/png": "[encoded data removed]",
      "text/plain": [
       "<Figure size 640x480 with 1 Axes>"
      ]
     },
     "metadata": {},
     "output_type": "display_data"
    }
   ],
   "source": [
    "n_iter = 50\n",
    "learning_rate = 0.05\n",
    "\n",
    "history = [backward(model, X, y, learning_rate) for _ in range(n_iter)]\n",
    "\n",
    "plt.plot(range(len(history)), history, color=\"skyblue\")\n",
    "plt.show()"
   ]
  },
  {
   "cell_type": "code",
   "execution_count": null,
   "id": "0bb17dd5",
   "metadata": {},
   "outputs": [],
   "source": []
  },
  {
   "cell_type": "code",
   "execution_count": 27,
   "id": "0f9c0fe9",
   "metadata": {},
   "outputs": [
    {
     "name": "stdout",
     "output_type": "stream",
     "text": [
      "machine\n",
      "algorithms\n",
      "intelligence\n",
      "so\n",
      "the\n",
      "are\n",
      "build\n",
      "is\n",
      "learning\n",
      "automatically\n",
      "do\n",
      "programmed\n",
      "used\n",
      "computer\n",
      "to\n",
      "artificial\n",
      "sample\n",
      "improve\n",
      "applications\n",
      "that\n",
      "develop\n",
      "conventional\n",
      "without\n",
      "training\n",
      "perform\n",
      "it\n",
      "predictions\n",
      "difficult\n",
      "model\n",
      "wide\n",
      "subset\n",
      "order\n",
      "where\n",
      "through\n",
      "of\n",
      "needed\n",
      "study\n",
      "a\n",
      "known\n",
      "explicitly\n",
      "being\n",
      "seen\n",
      "data\n",
      "infeasible\n",
      "experience\n",
      "mathematical\n",
      "email\n",
      "vision\n",
      "tasks\n",
      "variety\n",
      "in\n",
      "and\n",
      "make\n",
      "based\n",
      "such\n",
      "decisions\n",
      "as\n",
      "or\n",
      "on\n",
      "filtering\n"
     ]
    }
   ],
   "source": [
    "learning = one_hot_encode(word_to_id[\"learning\"], len(word_to_id))\n",
    "result = forward(model, [learning], return_all_layer=False)[0]\n",
    "\n",
    "for word in (id_to_word[id] for id in np.argsort(result)[::-1]):\n",
    "    print(word) # print the probability of words desc with the word \"learning\" as input"
   ]
  },
  {
   "cell_type": "code",
   "execution_count": 28,
   "id": "792a9701",
   "metadata": {},
   "outputs": [
    {
     "data": {
      "text/plain": [
       "array([[ 1.27606757, -0.23930799,  0.92850782, -0.27350692,  0.02606639,\n",
       "        -0.51072715,  2.62462971, -0.75241704, -1.01879004,  0.81882112],\n",
       "       [ 0.61147124, -1.42346717, -0.32171558, -1.07283129, -1.00561012,\n",
       "        -2.49911471, -0.37771402,  0.86784345,  0.17782003, -0.58753951],\n",
       "       [ 0.85330422,  0.43102562,  0.12112686, -2.4569169 , -1.06032876,\n",
       "        -0.00930637, -0.9663769 ,  0.0683869 ,  0.39359238, -0.76727018]])"
      ]
     },
     "execution_count": 28,
     "metadata": {},
     "output_type": "execute_result"
    }
   ],
   "source": [
    "print(model[\"w1\"][:3]) # the embedding of the first three words"
   ]
  },
  {
   "cell_type": "code",
   "execution_count": 29,
   "id": "b346f0a3",
   "metadata": {},
   "outputs": [],
   "source": [
    "def get_embedding(model, word):\n",
    "    try:\n",
    "        idx = word_to_id[word]\n",
    "    except KeyError:\n",
    "        print(\"`word` not in corpus\")\n",
    "    one_hot = one_hot_encode(idx, len(word_to_id))\n",
    "    return forward(model, one_hot)[\"a1\"]"
   ]
  },
  {
   "cell_type": "code",
   "execution_count": 30,
   "id": "8043bb3c",
   "metadata": {},
   "outputs": [
    {
     "data": {
      "text/plain": [
       "array([-0.61291034,  1.28743709, -0.22047015,  0.12831734, -0.65204058,\n",
       "       -0.77653976, -0.41152325,  0.31266731, -1.64929041, -0.81527973])"
      ]
     },
     "execution_count": 30,
     "metadata": {},
     "output_type": "execute_result"
    }
   ],
   "source": [
    "get_embedding(model, \"machine\")"
   ]
  }
 ],
 "metadata": {
  "kernelspec": {
   "display_name": "jpt",
   "language": "python",
   "name": "jpt"
  },
  "language_info": {
   "codemirror_mode": {
    "name": "ipython",
    "version": 3
   },
   "file_extension": ".py",
   "mimetype": "text/x-python",
   "name": "python",
   "nbconvert_exporter": "python",
   "pygments_lexer": "ipython3",
   "version": "3.11.4"
  }
 },
 "nbformat": 4,
 "nbformat_minor": 5
}
