{
 "cells": [
  {
   "cell_type": "markdown",
   "id": "7aa8f15d",
   "metadata": {},
   "source": [
    "## Types of Regression Analysis\n",
    "\n",
    "There are several types of regression analysis, including:\n",
    "\n",
    "1. **Linear Regression**: Linear regression is used to model the relationship between a dependent variable and one or more independent variables, where the relationship is assumed to be linear.\n",
    "\n",
    "2. **Polynomial regression**: a type of regression in which the independent variable is raised to a power, such as quadratic or cubic regression.\n",
    "\n",
    "3. **Logistic regression**: used to model the probability of a binary outcome, such as yes or no.\n",
    "\n",
    "4. **Ridge regression**: a technique used to prevent overfitting in multiple regression models by introducing a penalty for large coefficients.\n",
    "\n",
    "5. **Lasso regression**: similar to ridge regression, but uses a different penalty function that can result in some coefficients being set to zero.\n",
    "\n",
    "6. **Elastic Net Regression**: Elastic net regression is a combination of ridge and lasso regression and is used when both regularization and variable selection is required.\n",
    "\n",
    "7. **Time-series regression**: used to analyze time-based data and make predictions about future values.\n",
    "\n",
    "8. **Bayesian regression**: a type of regression that incorporates Bayesian probability theory to make predictions about the dependent variable.\n",
    "\n",
    "9. **Nonlinear regression**: involves a dependent variable and one or more independent variables that have a nonlinear relationship.\n",
    "\n",
    "10. **Poisson regression**: used when the dependent variable is a count or rate. or Poisson regression is used when the dependent variable is a count, and the independent variables are continuous or categorical."
   ]
  },
  {
   "cell_type": "markdown",
   "id": "0d21201e",
   "metadata": {},
   "source": [
    "### Linear regression\n",
    "\n",
    "Given a data set $\\left\\{y_{i}, x_{i1}, \\dotso,  x_{ip}\\right\\}_{i=1}^{n}$ of $n$ statistical units (samples), a linear regression model assumes that the relationship between the dependent variable $y$ and the vector of regressors $\\mathbf{x}$ is linear.\n",
    "$$ y_{i} = \\beta_{0} + \\beta_{1} x_{i1} + ... + \\beta_{p} x_{ip} + \\epsilon_{i} =   \\mathbf{x}^T \\mathbf{\\beta} + \\epsilon_{i}, \\quad i = 1, \\dotso,n$$\n",
    "\n",
    "\n",
    "In matrix notation:\n",
    "\n",
    "$$ \\mathbf{y} = \\begin{bmatrix}\n",
    "y_{1}\n",
    "\\\\y_{2}\n",
    "\\\\\\vdots\n",
    "\\\\y_{n} \n",
    "\\end{bmatrix}\n",
    "$$\n",
    "\n",
    "\n",
    "$$  \\mathbf{X} = \\begin{bmatrix}\n",
    "\\mathbf{x}_{1}^T\n",
    "\\\\\\mathbf{x}_{2}^T\n",
    "\\\\\\vdots\n",
    "\\\\\\mathbf{x}_{n}^T\n",
    "\\end{bmatrix} = \\begin{bmatrix}\n",
    "1 & x_{11} & \\dotsm & x_{1p}\n",
    "\\\\1 & x_{21} & \\dotsm & x_{2p}\n",
    "\\\\\\vdots\n",
    "\\\\1 & x_{n1} & \\dotsm & x_{np}\n",
    "\\end{bmatrix} \n",
    "$$\n",
    "\n",
    "\n",
    "$$ \\boldsymbol{\\beta} = \\begin{bmatrix}\n",
    "\\beta_{0}\n",
    "\\\\\\beta_{1}\n",
    "\\\\\\beta_{2}\n",
    "\\\\\\vdots\n",
    "\\\\\\beta_{p} \n",
    "\\end{bmatrix}\n",
    "$$\n",
    "\n",
    "$$ \\boldsymbol{\\epsilon} = \\begin{bmatrix}\n",
    "\\epsilon_{1}\n",
    "\\\\\\epsilon_{2}\n",
    "\\\\\\vdots\n",
    "\\\\\\epsilon_{n} \n",
    "\\end{bmatrix}\n",
    "$$\n",
    "\n",
    "\n",
    "Assumptions:\n",
    "\n"
   ]
  },
  {
   "cell_type": "markdown",
   "id": "469bb8db",
   "metadata": {},
   "source": [
    "### Loss function:\n",
    "\n",
    "$$ L(\\boldsymbol{\\beta}) = \\frac{1}{2n} \\sum_{i=1}^{n}  \\left( \\hat{y}_{i} - y_{i} \\right) ^2 = \\frac{1}{2n} \\sum_{i=1}^{n}  \\left( \\mathbf{x}_{i}^T \\boldsymbol{\\beta} - y_{i} \\right) ^2$$\n",
    "\n",
    "### Gradient descent:\n",
    "\n",
    "$$ \\frac{\\partial L}{\\partial \\boldsymbol{\\beta}} = \\frac{1}{2n} \\sum_{i=1}^{n}  \\left[ 2 \\mathbf{x}_{i}^T \\left( \\mathbf{x}_{i}^T \\boldsymbol{\\beta}  \\right) -2 y_{i} \\mathbf{x}_{i}^T \\right]  = \\sum_{i=1}^{n} \\mathbf{x}_{i}^T \\left( \\mathbf{x}_{i}^T \\boldsymbol{\\beta} - y_{i} \\right) =  \\frac{1}{n} \\mathbf{X}^T \\left( \\mathbf{X} \\boldsymbol{\\beta} - \\mathbf{y} \\right)$$\n",
    "\n",
    "\n",
    "### Feature Scaling:\n",
    "\n",
    "Standardization (Z-score Normalization) \n",
    "$$ x' = \\frac{x - \\bar{x}}{\\sigma} $$\n",
    "\n",
    "\n",
    "In multi linear regression -- normalizing within the same feature across samples:\n",
    "\n",
    "$$ \\mu_{1} = \\frac{1}{n} \\left(x_{11} + x_{21} + \\dotso + x_{n1} \\right)$$\n",
    "\n",
    "$$ \\sigma_{1} = \\sqrt{ \\frac{\\left(x_{11} - \\mu_{1} \\right)^2 + \\left(x_{21} - \\mu_{1} \\right)^2 + \\dotso + \\left(x_{n1} - \\mu_{1} \\right)^2}{n} }$$ \n",
    "\n",
    "$$ x_{11} ^{'} = \\frac{x_{11} - \\mu_{1}}{\\sigma_{1}} $$"
   ]
  },
  {
   "cell_type": "code",
   "execution_count": 1,
   "id": "445811b6",
   "metadata": {},
   "outputs": [],
   "source": [
    "import pandas as pd\n",
    "import numpy as np\n",
    "from sklearn.datasets import load_diabetes\n",
    "import matplotlib.pyplot as plt \n",
    "from tqdm import tqdm\n",
    "from sklearn.model_selection import train_test_split\n",
    "from sklearn.preprocessing import StandardScaler\n",
    "from sklearn import preprocessing"
   ]
  },
  {
   "cell_type": "code",
   "execution_count": 2,
   "id": "767352a3",
   "metadata": {
    "scrolled": true
   },
   "outputs": [
    {
     "name": "stdout",
     "output_type": "stream",
     "text": [
      ".. _diabetes_dataset:\n",
      "\n",
      "Diabetes dataset\n",
      "----------------\n",
      "\n",
      "Ten baseline variables, age, sex, body mass index, average blood\n",
      "pressure, and six blood serum measurements were obtained for each of n =\n",
      "442 diabetes patients, as well as the response of interest, a\n",
      "quantitative measure of disease progression one year after baseline.\n",
      "\n",
      "**Data Set Characteristics:**\n",
      "\n",
      "  :Number of Instances: 442\n",
      "\n",
      "  :Number of Attributes: First 10 columns are numeric predictive values\n",
      "\n",
      "  :Target: Column 11 is a quantitative measure of disease progression one year after baseline\n",
      "\n",
      "  :Attribute Information:\n",
      "      - age     age in years\n",
      "      - sex\n",
      "      - bmi     body mass index\n",
      "      - bp      average blood pressure\n",
      "      - s1      tc, total serum cholesterol\n",
      "      - s2      ldl, low-density lipoproteins\n",
      "      - s3      hdl, high-density lipoproteins\n",
      "      - s4      tch, total cholesterol / HDL\n",
      "      - s5      ltg, possibly log of serum triglycerides level\n",
      "      - s6      glu, blood sugar level\n",
      "\n",
      "Note: Each of these 10 feature variables have been mean centered and scaled by the standard deviation times `n_samples` (i.e. the sum of squares of each column totals 1).\n",
      "\n",
      "Source URL:\n",
      "https://www4.stat.ncsu.edu/~boos/var.select/diabetes.html\n",
      "\n",
      "For more information see:\n",
      "Bradley Efron, Trevor Hastie, Iain Johnstone and Robert Tibshirani (2004) \"Least Angle Regression,\" Annals of Statistics (with discussion), 407-499.\n",
      "(https://web.stanford.edu/~hastie/Papers/LARS/LeastAngle_2002.pdf)\n"
     ]
    }
   ],
   "source": [
    "diabetes = load_diabetes()\n",
    "print(diabetes.DESCR)"
   ]
  },
  {
   "cell_type": "code",
   "execution_count": 3,
   "id": "01f10442",
   "metadata": {},
   "outputs": [
    {
     "name": "stdout",
     "output_type": "stream",
     "text": [
      "Shape of Dataset :  (442, 10)\n",
      "Feature names :  ['age', 'sex', 'bmi', 'bp', 's1', 's2', 's3', 's4', 's5', 's6']\n",
      "Target Values :  [151.  75. 141. 206. 135.  97. 138.  63. 110. 310.]\n",
      "        age       sex       bmi        bp        s1        s2        s3   \n",
      "0  0.038076  0.050680  0.061696  0.021872 -0.044223 -0.034821 -0.043401  \\\n",
      "1 -0.001882 -0.044642 -0.051474 -0.026328 -0.008449 -0.019163  0.074412   \n",
      "2  0.085299  0.050680  0.044451 -0.005671 -0.045599 -0.034194 -0.032356   \n",
      "3 -0.089063 -0.044642 -0.011595 -0.036656  0.012191  0.024991 -0.036038   \n",
      "4  0.005383 -0.044642 -0.036385  0.021872  0.003935  0.015596  0.008142   \n",
      "\n",
      "         s4        s5        s6  \n",
      "0 -0.002592  0.019908 -0.017646  \n",
      "1 -0.039493 -0.068330 -0.092204  \n",
      "2 -0.002592  0.002864 -0.025930  \n",
      "3  0.034309  0.022692 -0.009362  \n",
      "4 -0.002592 -0.031991 -0.046641  \n",
      "(353, 10)\n",
      "(353,)\n"
     ]
    }
   ],
   "source": [
    "print(\"Shape of Dataset : \", diabetes.data.shape)\n",
    "print(\"Feature names : \", diabetes.feature_names)\n",
    "print(\"Target Values : \", diabetes.target[:10])\n",
    "\n",
    "X = pd.DataFrame(diabetes.data, columns = diabetes.feature_names)\n",
    "y = diabetes.target   \n",
    "\n",
    "print(X.head())\n",
    "\n",
    "\n",
    "X_train, X_test, y_train, y_test = train_test_split(X, y, test_size = 0.2, random_state = 5)\n",
    "print(X_train.shape)\n",
    "print(y_train.shape)"
   ]
  },
  {
   "cell_type": "code",
   "execution_count": 18,
   "id": "34596ca3",
   "metadata": {},
   "outputs": [],
   "source": [
    "class linear_regression:\n",
    "\n",
    "    def __init__(self, learning_rate=0.001, n_iters=1000):\n",
    "        self.lr = learning_rate\n",
    "        self.n_iters = n_iters\n",
    "        self.beta = None\n",
    "        self.loss = None\n",
    "        \n",
    "    def fit(self, X, y):\n",
    "        n_samples, n_features = X.shape\n",
    "        self.beta = np.zeros(n_features)\n",
    "        self.loss = []\n",
    "        prediction = X @ self.beta\n",
    "        \n",
    "        # gradient descent\n",
    "        for _ in range(self.n_iters):\n",
    "            gradient = (1/n_samples) * X.T @ (prediction - y)\n",
    "            self.beta -= self.lr * gradient\n",
    "            prediction = X @ self.beta\n",
    "            self.loss.append(np.mean((prediction - y) ** 2))\n",
    "    \n",
    "    def predict(self, X):\n",
    "        y_pred = X @ self.beta\n",
    "        return y_pred\n",
    "        "
   ]
  },
  {
   "cell_type": "code",
   "execution_count": 19,
   "id": "97a9d5b5",
   "metadata": {},
   "outputs": [],
   "source": [
    "model = linear_regression(learning_rate=0.2, n_iters=50000)\n",
    "model.fit(X_train, y_train)\n",
    "y_pred = model.predict(X_test)"
   ]
  },
  {
   "cell_type": "code",
   "execution_count": 20,
   "id": "a6d44651",
   "metadata": {},
   "outputs": [
    {
     "data": {
      "image/png": "[encoded data removed]",
      "text/plain": [
       "<Figure size 432x288 with 1 Axes>"
      ]
     },
     "metadata": {
      "needs_background": "light"
     },
     "output_type": "display_data"
    }
   ],
   "source": [
    "idx = range(0, len(model.loss))\n",
    "\n",
    "fig, ax = plt.subplots()\n",
    "ax.plot(idx, model.loss)\n",
    "ax.set(xlabel=\"iteration\",\n",
    "       ylabel=\"loss\",\n",
    "       title=\"Performance of Regression\")\n",
    "plt.show()"
   ]
  },
  {
   "cell_type": "code",
   "execution_count": 24,
   "id": "31c60d39",
   "metadata": {},
   "outputs": [
    {
     "data": {
      "image/png": "[encoded data removed]",
      "text/plain": [
       "<Figure size 432x288 with 1 Axes>"
      ]
     },
     "metadata": {},
     "output_type": "display_data"
    }
   ],
   "source": [
    "# Plot outputs\n",
    "plt.scatter(y_test, y_pred, color=\"blue\", linewidth=3)\n",
    "\n",
    "plt.xticks(())\n",
    "plt.yticks(())\n",
    "\n",
    "plt.show()"
   ]
  },
  {
   "cell_type": "code",
   "execution_count": 21,
   "id": "cdacb995",
   "metadata": {},
   "outputs": [
    {
     "data": {
      "text/plain": [
       "age    262.080418\n",
       "sex   -398.915354\n",
       "bmi    501.576342\n",
       "bp     323.954180\n",
       "s1    -211.290373\n",
       "s2    -103.304134\n",
       "s3    -209.686522\n",
       "s4     113.024732\n",
       "s5     401.459332\n",
       "s6     -54.953393\n",
       "dtype: float64"
      ]
     },
     "execution_count": 21,
     "metadata": {},
     "output_type": "execute_result"
    }
   ],
   "source": [
    "model.beta"
   ]
  },
  {
   "cell_type": "code",
   "execution_count": null,
   "id": "a429b512",
   "metadata": {},
   "outputs": [],
   "source": []
  }
 ],
 "metadata": {
  "kernelspec": {
   "display_name": "nlp",
   "language": "python",
   "name": "nlp"
  },
  "language_info": {
   "codemirror_mode": {
    "name": "ipython",
    "version": 3
   },
   "file_extension": ".py",
   "mimetype": "text/x-python",
   "name": "python",
   "nbconvert_exporter": "python",
   "pygments_lexer": "ipython3",
   "version": "3.8.16"
  }
 },
 "nbformat": 4,
 "nbformat_minor": 5
}
